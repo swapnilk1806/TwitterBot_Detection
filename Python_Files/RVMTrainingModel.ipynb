{
 "cells": [
  {
   "cell_type": "code",
   "execution_count": 41,
   "metadata": {
    "collapsed": true
   },
   "outputs": [],
   "source": [
    "import pandas as pd\n",
    "import numpy as np\n",
    "from sklearn import preprocessing\n",
    "from sklearn.naive_bayes import GaussianNB\n",
    "from sklearn.metrics import confusion_matrix \n",
    "from sklearn.metrics import accuracy_score \n",
    "from sklearn.metrics import classification_report\n",
    "from sklearn_rvm import EMRVC\n",
    "from sklearn.model_selection import train_test_split"
   ]
  },
  {
   "cell_type": "code",
   "execution_count": 201,
   "metadata": {},
   "outputs": [],
   "source": [
    "\n",
    "data = pd.read_csv('Training_Data.csv',  delimiter='\\t')\n",
    "\n",
    "X = data.iloc[:, 3:6].values\n",
    "y = data.iloc[:, -1].values\n",
    "\n",
    "X_train, X_test, y_train, y_test = train_test_split(X, y, test_size=0.2, random_state=42)\n"
   ]
  },
  {
   "cell_type": "code",
   "execution_count": 202,
   "metadata": {
    "collapsed": true
   },
   "outputs": [],
   "source": [
    "##Preprocessing \n",
    "\n",
    "le = preprocessing.LabelEncoder()\n",
    "y_train = le.fit_transform(y_train)\n",
    "y_test = le.fit_transform(y_test)\n",
    "\n",
    "#data is already normalized as features are ratios\n"
   ]
  },
  {
   "cell_type": "code",
   "execution_count": 203,
   "metadata": {},
   "outputs": [
    {
     "data": {
      "text/plain": [
       "EMRVC(alpha_max=10000000000.0, beta_fixed='not_fixed', bias_used=True,\n",
       "   coef0=0.0, compute_score=False, degree=3, epsilon=1e-08,\n",
       "   gamma='auto_deprecated', init_alpha=3.3915665306648486e-06,\n",
       "   kernel='linear', max_iter=5000, n_iter_posterior=50,\n",
       "   threshold_alpha=1000000000.0, tol=0.001, verbose=False)"
      ]
     },
     "execution_count": 203,
     "metadata": {},
     "output_type": "execute_result"
    }
   ],
   "source": [
    "#Naive Bayesian Classifier\n",
    "# model = GaussianNB()\n",
    "# model.fit(X_train, y_train)\n",
    "\n",
    "#SVM Classifier\n",
    "# from sklearn import svm\n",
    "# #model = svm.LinearSVC()\n",
    "\n",
    "#Decision Tree\n",
    "# from sklearn import tree\n",
    "# model = tree.DecisionTreeClassifier()\n",
    "# model.fit(X_train, y_train)\n",
    "\n",
    "#RVM classifier - highest accuracy 81.25%\n",
    "model = EMRVC(kernel=\"linear\")\n",
    "model.fit(X_train, y_train)\n",
    "\n"
   ]
  },
  {
   "cell_type": "code",
   "execution_count": 204,
   "metadata": {},
   "outputs": [],
   "source": [
    "##Testing\n",
    "\n",
    "y_pred = model.predict(X_train)"
   ]
  },
  {
   "cell_type": "code",
   "execution_count": 205,
   "metadata": {},
   "outputs": [
    {
     "name": "stdout",
     "output_type": "stream",
     "text": [
      "Confusion Matrix :\n",
      "[[179  90]\n",
      " [ 40 233]]\n",
      "Accuracy Score : 0.7601476014760148\n",
      "Report : \n",
      "             precision    recall  f1-score   support\n",
      "\n",
      "          0       0.82      0.67      0.73       269\n",
      "          1       0.72      0.85      0.78       273\n",
      "\n",
      "avg / total       0.77      0.76      0.76       542\n",
      "\n"
     ]
    }
   ],
   "source": [
    "##Training Analysis\n",
    "\n",
    "results = confusion_matrix(y_train, y_pred) \n",
    "print('Confusion Matrix :')\n",
    "print(results) \n",
    "print('Accuracy Score :',accuracy_score(y_train, y_pred)) \n",
    "print ('Report : ')\n",
    "print (classification_report(y_train, y_pred)) "
   ]
  },
  {
   "cell_type": "code",
   "execution_count": 206,
   "metadata": {},
   "outputs": [
    {
     "name": "stdout",
     "output_type": "stream",
     "text": [
      "Confusion Matrix :\n",
      "[[37 10]\n",
      " [ 8 41]]\n",
      "Accuracy Score : 0.8125\n",
      "Report : \n",
      "             precision    recall  f1-score   support\n",
      "\n",
      "          0       0.82      0.79      0.80        47\n",
      "          1       0.80      0.84      0.82        49\n",
      "\n",
      "avg / total       0.81      0.81      0.81        96\n",
      "\n"
     ]
    }
   ],
   "source": [
    "##Testing Analysis\n",
    "y_pred = model.predict(X_test)\n",
    "results = confusion_matrix(y_test, y_pred) \n",
    "print('Confusion Matrix :')\n",
    "print(results) \n",
    "print('Accuracy Score :',accuracy_score(y_test, y_pred)) \n",
    "print ('Report : ')\n",
    "print (classification_report(y_test, y_pred)) "
   ]
  },
  {
   "cell_type": "code",
   "execution_count": null,
   "metadata": {
    "collapsed": true
   },
   "outputs": [],
   "source": []
  }
 ],
 "metadata": {
  "kernelspec": {
   "display_name": "Python 3",
   "language": "python",
   "name": "python3"
  },
  "language_info": {
   "codemirror_mode": {
    "name": "ipython",
    "version": 3
   },
   "file_extension": ".py",
   "mimetype": "text/x-python",
   "name": "python",
   "nbconvert_exporter": "python",
   "pygments_lexer": "ipython3",
   "version": "3.6.6"
  }
 },
 "nbformat": 4,
 "nbformat_minor": 2
}
