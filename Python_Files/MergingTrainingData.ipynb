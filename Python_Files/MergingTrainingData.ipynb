{
 "cells": [
  {
   "cell_type": "code",
   "execution_count": 1,
   "metadata": {
    "collapsed": true
   },
   "outputs": [],
   "source": [
    "import numpy as np\n",
    "import pandas as pd\n",
    "import csv"
   ]
  },
  {
   "cell_type": "code",
   "execution_count": 6,
   "metadata": {
    "collapsed": true
   },
   "outputs": [],
   "source": [
    "#importing csv data\n",
    "\n",
    "content_data = pd.read_csv('Content_Data.csv', delimiter='\\t')\n",
    "graph_data = pd.read_csv('Graph_Data.csv')\n"
   ]
  },
  {
   "cell_type": "code",
   "execution_count": 29,
   "metadata": {},
   "outputs": [
    {
     "name": "stdout",
     "output_type": "stream",
     "text": [
      "(638, 5)\n",
      "(663, 11)\n",
      "(663, 16)\n",
      "ID\n",
      "Number of tweets\n",
      "URLs\n",
      "User mentions\n",
      "Output\n",
      "ID\n",
      "Name\n",
      "Screen Name\n",
      "Verified\n",
      "Followers\n",
      "Friends\n",
      "Listed count\n",
      "Favourites count\n",
      "Tweets count\n",
      "Created at\n",
      "Output\n"
     ]
    }
   ],
   "source": [
    "#removing non-existent accounts\n",
    "\n",
    "print(content_data.shape)\n",
    "print(graph_data.shape)\n",
    "content_id = content_data.iloc[:, 0].values\n",
    "\n",
    "graph_id = graph_data.iloc[:, 0].values\n",
    "super_data = pd.concat([content_data, graph_data], axis = 1)\n",
    "print(super_data.shape)\n",
    "# for col in super_data.columns : \n",
    "#     print(col)\n",
    "super_data.dropna(subset = [\"URLs\"], inplace=True)\n"
   ]
  },
  {
   "cell_type": "code",
   "execution_count": 30,
   "metadata": {},
   "outputs": [
    {
     "name": "stdout",
     "output_type": "stream",
     "text": [
      "[3039154799.0 390.0 160.0 0.2909090909090909 0.0 1.0 'human']\n"
     ]
    }
   ],
   "source": [
    "#merging graph & content data\n",
    "\n",
    "Ids = super_data.iloc[:, 0].values\n",
    "\n",
    "Friends = super_data.iloc[:, 10].values\n",
    "\n",
    "Followers = super_data.iloc[:, 9].values\n",
    "\n",
    "Label = super_data.iloc[:, 4].values\n",
    "\n",
    "Url = super_data.iloc[:, 2].values\n",
    "\n",
    "Total_tweets =  super_data.iloc[:, 1].values\n",
    "\n",
    "User_mentions  = super_data.iloc[:, 3].values\n",
    "\n",
    "final_content_data = (np.array((Ids, Friends), order='F').T)\n",
    "final_content_data = np.hstack((final_content_data, Followers.reshape(Ids.shape[0],1)))\n",
    "\n",
    "rf = final_content_data[:, 2]/ (final_content_data[:, 2] + final_content_data[:, 1])\n",
    "\n",
    "final_content_data = np.hstack(( final_content_data,rf.reshape(Ids.shape[0],1)))\n",
    "\n",
    "Url = Url/Total_tweets\n",
    "User_mentions = User_mentions/ Total_tweets\n",
    "\n",
    "final_content_data = np.hstack(( final_content_data,Url.reshape(Ids.shape[0],1)))\n",
    "final_content_data = np.hstack(( final_content_data,User_mentions.reshape(Ids.shape[0],1)))\n",
    "final_content_data = np.hstack(( final_content_data,Label.reshape(Ids.shape[0],1)))\n"
   ]
  },
  {
   "cell_type": "code",
   "execution_count": 31,
   "metadata": {
    "collapsed": true
   },
   "outputs": [],
   "source": [
    "#saving merged data in file 'Training_Data.csv'\n",
    "\n",
    "with open('Training_Data.csv', 'w') as f:\n",
    "    writer = csv.writer(f , lineterminator='\\n')\n",
    "    for tup in final_content_data:\n",
    "        writer.writerow(tup)\n",
    "        \n",
    "#------------END------------------------------------"
   ]
  },
  {
   "cell_type": "code",
   "execution_count": 166,
   "metadata": {},
   "outputs": [
    {
     "name": "stdout",
     "output_type": "stream",
     "text": [
      "(662, 3)\n",
      "0  :     [['0Claudia9', 390617262, 'Tue Apr 16 13:51:17 +0000 2019', 1118149870358016001, 173, 'RT @Valerio_Scanu: Ti voglio bene @elvira_serra #lestelledicapogelsomino https://t.co/0eLeIjljd2', [\n",
      "0  :      [User(ID=196985837, ScreenName=Valerio_Scanu), User(ID=421147323, ScreenName=elvira_serra)]\n",
      "\n",
      "1  :     [['0nedangels', 4611389296, 'Wed Mar 25 07:05:10 +0000 2020', 1242709090587103232, 40614, 'RT @Harry_Styles: For the safety of yourself and others, please self-isolate. We’re all in this together.\\n \\nI can’t wait to see you out on…', [\n",
      "1  :      [User(ID=181561712, ScreenName=Harry_Styles)]\n",
      "\n",
      "2  :     [['11dreams_', 734396807745286145, 'Tue Apr 07 22:07:13 +0000 2020', 1247647140861677575, 0, '@Max_Giusti @CdGherardesca @PechinoExpress @RaiDue siete stati fantastici❤️', [\n",
      "2  :      [User(ID=987003174, ScreenName=Max_Giusti), User(ID=33205675, ScreenName=CdGherardesca), User(ID=562439654, ScreenName=PechinoExpress), User(ID=1204076264, ScreenName=RaiDue)]\n",
      "\n",
      "3  :     [['1D02685599', 1010978324569640960, 'Wed Feb 13 01:56:38 +0000 2019', 1095501971140808704, 361, 'RT @STATSAWARDS: 300RTS + 100 REPLIES for Helene\\n\\n#iHeartAwards #FaveTourPhotographer #HelenePambrun\\n[@Harry_Styles + @helenepambrun]', [\n",
      "3  :      [User(ID=951519362216812544, ScreenName=STATSAWARDS), User(ID=181561712, ScreenName=Harry_Styles), User(ID=40941551, ScreenName=helenepambrun)]\n",
      "\n",
      "4  :     [['1D39191230', 1012447780504326145, 'Fri Sep 14 18:41:38 +0000 2018', 1040671934101381120, 0, 'Did it', [\n",
      "4  :      []\n",
      "\n",
      "5  :     [['1D97435172', 1012258265772720128, 'Mon Jul 02 06:46:33 +0000 2018', 1013675277354926081, 114, RT @ChiaraBarone17: La mia vita\\n-ansia \\n-scleri\\n-pianti\\n-votare \\n-odiare louis perché non fa uscire l'album \\n-Amare cinque perosone contemp…, [\n",
      "5  :      []\n",
      "\n",
      "6  :     [['1DAnneStyles', 968196446, 'Wed Apr 01 17:32:23 +0000 2020', 1245403652292042761, 18953, 'RT @lacasadepapel: 8 episodios. Viernes.\\n🇺🇸PST: 0:00am\\u2063\\n🇲🇽: 1:00am\\n🇵🇪🇨🇴: 2:00\\n🇻🇪🇺🇸EST: 3:00am\\n🇨🇱🇧🇷🇦🇷: 4:00am\\n🇵🇹🇬🇧: 8:00am\\n🇪🇸🇫🇷🇮🇹🇩🇪: 9:00\\n🇬🇷…', [\n",
      "6  :      [User(ID=976781233907740674, ScreenName=lacasadepapel)]\n",
      "\n",
      "7  :     [['1DDirec47313447', 1012049887947456512, 'Wed May 01 03:33:04 +0000 2019', 1123430106750304256, 3410, 'RT @NoControlProjec: Me &amp; the 3 other 1D stans left in the fandom still waiting for One Direction to return 4 years into their break https:…', [\n",
      "7  :      [User(ID=3185311982, ScreenName=NoControlProjec)]\n",
      "\n",
      "8  :     [['1DFamil22117676', 1011995299622064131, 'Sun Jul 01 15:02:36 +0000 2018', 1013437720738267136, 191, 'RT @SharonFiorini6: @MarcoMoriniTW @team_world @Louis_Tomlinson https://t.co/l1cB68Nerh', [\n",
      "8  :      [User(ID=1186755323480150017, ScreenName=sharonfiorini6), User(ID=468267471, ScreenName=MarcoMoriniTW), User(ID=20991479, ScreenName=team_world), User(ID=84279963, ScreenName=Louis_Tomlinson)]\n",
      "\n",
      "9  :     [['1DLads_BW4Life', 2890342662, 'Mon Apr 13 15:37:09 +0000 2020', 1249723306464268294, 0, '@brightwinbts Hahahaha alam mo ba kung magkano ang piano na binili ng mama mo? Kapag mahal baka wala nakong chance hahahaha', [\n",
      "9  :      [User(ID=3186865063, ScreenName=brightwinbts)]\n",
      "\n",
      "10  :     [['1DSTATSVOTESL', 720666928055001088, 'Sun Aug 12 18:46:10 +0000 2018', 1028714274825359361, 35, '!!!VOTE ATTACK!!!\\nWE CAN DO IT FOR OUR BOYS. VOTE VOTE VOTE!\\n\\nWE CAN DO IT! ONED HAVE THE BEST FANS IN THE WORLD!… https://t.co/nyYgDp7wvH', [URL(URL=https://t.co/nyYgDp7wvH, ExpandedURL=https://twitter.com/i/web/status/1028714274825359361)\n",
      "10  :      []\n",
      "\n",
      "11  :     [['1DVoting28', 1010968620866965506, 'Mon Jul 23 22:02:19 +0000 2018', 1021515881019523072, 0, @onedirection Y'ALL ARE KILLING ME, [\n",
      "11  :      [User(ID=209708391, ScreenName=onedirection)]\n",
      "\n",
      "12  :     [['1D_ilmiosogno', 1704716070, 'Sun Apr 12 21:25:41 +0000 2020', 1249448630559428610, 0, '@gravityfucks No ditemi che non è vero per favore', [\n",
      "12  :      [User(ID=1055245086752206848, ScreenName=gravityfucks)]\n",
      "\n",
      "13  :     [['voteforlegends5', 1010610247789096960, 'Tue Apr 07 09:06:16 +0000 2020', 1247450608891842561, 10852, 'RT @LiamPayne: I’ve got a brand new single with @Alesso out on 8th April called Midnight! We wanted to get our fans involved somehow, so we…', [\n",
      "13  :      [User(ID=158314798, ScreenName=LiamPayne), User(ID=130151627, ScreenName=Alesso)]\n",
      "\n",
      "14  :     [['1IlMigliore', 1154282738, 'Mon Apr 13 18:59:02 +0000 2020', 1249774110395301888, 5, 'RT @StefanoCetica: @TgLa7 Mentana come #ilProfessore della #CasaDePapel4 : si autoproclama eroe della resistenza per aver “ridotto” -quando…', [\n",
      "14  :      [User(ID=932376896, ScreenName=StefanoCetica), User(ID=828717014, ScreenName=TgLa7)]\n",
      "\n",
      "15  :     [['1dVotate', 1012070142719774720, 'Fri Jun 29 14:05:35 +0000 2018', 1012698598650200065, 18, 'RT @RagazziVoto: @artvniiall @onedirection Le foto video e gif annullano il voto GUYS NEW RULES\\nNO EMOJI\\nNO NUMBERS\\nNO WORDS BETWEEN AND AF…', [\n",
      "15  :      [User(ID=1011919056495087618, ScreenName=RagazziVoto), User(ID=2338195455, ScreenName=artvniiall), User(ID=209708391, ScreenName=onedirection)]\n",
      "\n",
      "16  :     [['1d_allmylove_', 883611156228825088, 'Sat Nov 09 09:33:35 +0000 2019', 1193099305432834056, 375, 'RT @bothwayslwt: me trying to find ot5 stans who are also larries and respect all of the boys but arent a disgusting larrie either https://…', [\n",
      "16  :      []\n",
      "\n",
      "17  :     [['1d_choice', 1011189105923784704, 'Thu Aug 09 20:59:52 +0000 2018', 1027660757687623680, 421, RT @1DVOT1NGTEAM: Thank you to all of you who still votes. \\nYou guys are the most dedicated fans ever.\\n\\nWe got 3 more days left and we're a…, [\n",
      "17  :      [User(ID=4921079682, ScreenName=1DVOT1NGTEAM)]\n",
      "\n",
      "18  :     [['1d_votate', 1012089312794509312, 'Tue Oct 16 10:35:50 +0000 2018', 1052146090756268032, 274, RT @happytogether: Cooper raises the bar (bell) when Claire and Jake agree to join in his healthy lifestyle. Don't miss tonight's all new e…, [\n",
      "18  :      [User(ID=995766542439600128, ScreenName=happytogether)]\n",
      "\n",
      "19  :     [['1dalwaysinmyhe1', 1011238575399165959, 'Tue Sep 11 11:21:31 +0000 2018', 1039474011980406784, 0, '@dramafever Do you like to meet arohas from different countries? ♡ kisses from Portugal', [\n",
      "19  :      []\n",
      "\n",
      "20  :     [['horanschords_', 406457303, 'Mon Apr 13 16:30:35 +0000 2020', 1249736754195660804, 111, RT @chartdata: .@taylorswift13's 'Lover' is #37 on this week's Billboard 200 (15.5K sold)., [\n",
      "20  :      [User(ID=744260935527735296, ScreenName=chartdata), User(ID=17919972, ScreenName=taylorswift13)]\n",
      "\n",
      "21  :     [['1dinmyheartA', 959255458774122496, 'Sat Jun 30 15:01:25 +0000 2018', 1013075037765750784, 506, 'RT @ProjetoooHelp: #TeenChoice for #ChoiceFandom is #Directioners by @onedirection', [\n",
      "21  :      [User(ID=3079707406, ScreenName=ProjetoooHelp), User(ID=209708391, ScreenName=onedirection)]\n",
      "\n",
      "22  :     [['1dlarrysaf', 4655510439, 'Tue Apr 07 09:08:07 +0000 2020', 1247451075612938240, 1053, 'RT @GemmaAnneStyles: Welcome back old friend https://t.co/hNACVItLEZ', [\n",
      "22  :      [User(ID=112457675, ScreenName=GemmaAnneStyles)]\n",
      "\n",
      "23  :     [['1dmccurdians', 3119392109, 'Wed Aug 07 22:03:11 +0000 2019', 1159223486562361350, 0, Sto guardando questa serie da due giorni e l'ho praticamente finita e non voglio fuck #euphoria https://t.co/GlViHUe70v, [\n",
      "23  :      []\n",
      "\n",
      "24  :     [['1dreactionpic1', 1010882400325431298, 'Wed Aug 01 11:24:23 +0000 2018', 1024616829229178885, 55, 'RT @hharrysmedicine: @MrsAnneTwist Tell harry to release the studio version of medicine and Anna', [\n",
      "24  :      [User(ID=978046813289766912, ScreenName=hharrysmedicine), User(ID=174416608, ScreenName=MrsAnneTwist)]\n",
      "\n",
      "25  :     [['blankxstyles', 1010605695601963008, 'Fri Feb 08 18:36:50 +0000 2019', 1093941741978353668, 0, '#BRITVIDLIAMRITA', [\n",
      "25  :      []\n",
      "\n",
      "26  :     [['1dvote____', 809795080429142017, 'Sun Dec 15 23:28:38 +0000 2019', 1206355413031116808, 1037, 'RT @STATSAWARDS: 💢 600 RTS here as fast as you can and minimum 30 RTS on every reply\\n\\nvote on the website: https://t.co/AXxALnxEss\\n\\n#1DWins…', [URL(URL=https://t.co/AXxALnxEss, ExpandedURL=http://tylt.it/ujGziw)\n",
      "26  :      [User(ID=951519362216812544, ScreenName=STATSAWARDS)]\n",
      "\n",
      "27  :     [['1dvotedfan', 1357959324, 'Sun Apr 12 21:03:14 +0000 2020', 1249442979745533954, 0, '@angelicpaynee oh definitely', [\n",
      "27  :      [User(ID=3079315019, ScreenName=angelicpaynee)]\n",
      "\n",
      "28  :     [['1dvoteeplss', 1012132071073112064, 'Mon Jan 14 13:25:05 +0000 2019', 1084803589770485760, 2, '#HelenePambrun #FaveTourPhotographer #iHeartAwards \\n@Harry_Styles', [\n",
      "28  :      [User(ID=181561712, ScreenName=Harry_Styles)]\n",
      "\n"
     ]
    },
    {
     "ename": "AttributeError",
     "evalue": "'float' object has no attribute 'replace'",
     "output_type": "error",
     "traceback": [
      "\u001b[0;31m---------------------------------------------------------------------------\u001b[0m",
      "\u001b[0;31mAttributeError\u001b[0m                            Traceback (most recent call last)",
      "\u001b[0;32m<ipython-input-166-c11259b9a249>\u001b[0m in \u001b[0;36m<module>\u001b[0;34m()\u001b[0m\n\u001b[1;32m      1\u001b[0m \u001b[0mprint\u001b[0m\u001b[0;34m(\u001b[0m\u001b[0mcontent_data\u001b[0m\u001b[0;34m.\u001b[0m\u001b[0mshape\u001b[0m\u001b[0;34m)\u001b[0m\u001b[0;34m\u001b[0m\u001b[0m\n\u001b[1;32m      2\u001b[0m \u001b[0;32mfor\u001b[0m \u001b[0muser\u001b[0m \u001b[0;32min\u001b[0m  \u001b[0mrange\u001b[0m\u001b[0;34m(\u001b[0m\u001b[0mcontent_data\u001b[0m\u001b[0;34m.\u001b[0m\u001b[0mshape\u001b[0m\u001b[0;34m[\u001b[0m\u001b[0;36m0\u001b[0m\u001b[0;34m]\u001b[0m\u001b[0;34m)\u001b[0m\u001b[0;34m:\u001b[0m\u001b[0;34m\u001b[0m\u001b[0m\n\u001b[0;32m----> 3\u001b[0;31m     \u001b[0muser_list\u001b[0m \u001b[0;34m=\u001b[0m \u001b[0mcontent_data\u001b[0m\u001b[0;34m.\u001b[0m\u001b[0miloc\u001b[0m\u001b[0;34m[\u001b[0m\u001b[0muser\u001b[0m\u001b[0;34m,\u001b[0m \u001b[0;36m1\u001b[0m\u001b[0;34m]\u001b[0m\u001b[0;34m.\u001b[0m\u001b[0mreplace\u001b[0m\u001b[0;34m(\u001b[0m\u001b[0;34m'\"'\u001b[0m\u001b[0;34m,\u001b[0m\u001b[0;34m''\u001b[0m\u001b[0;34m)\u001b[0m\u001b[0;34m.\u001b[0m\u001b[0msplit\u001b[0m\u001b[0;34m(\u001b[0m\u001b[0;34m'],'\u001b[0m\u001b[0;34m)\u001b[0m\u001b[0;34m\u001b[0m\u001b[0m\n\u001b[0m\u001b[1;32m      4\u001b[0m     \u001b[0mprint\u001b[0m \u001b[0;34m(\u001b[0m\u001b[0muser\u001b[0m\u001b[0;34m,\u001b[0m\u001b[0;34m\" :    \"\u001b[0m\u001b[0;34m,\u001b[0m\u001b[0muser_list\u001b[0m\u001b[0;34m[\u001b[0m\u001b[0;36m0\u001b[0m\u001b[0;34m]\u001b[0m\u001b[0;34m)\u001b[0m\u001b[0;34m\u001b[0m\u001b[0m\n\u001b[1;32m      5\u001b[0m     \u001b[0mprint\u001b[0m \u001b[0;34m(\u001b[0m\u001b[0muser\u001b[0m\u001b[0;34m,\u001b[0m\u001b[0;34m\" :    \"\u001b[0m\u001b[0;34m,\u001b[0m\u001b[0muser_list\u001b[0m\u001b[0;34m[\u001b[0m\u001b[0;36m1\u001b[0m\u001b[0;34m]\u001b[0m\u001b[0;34m)\u001b[0m\u001b[0;34m\u001b[0m\u001b[0m\n",
      "\u001b[0;31mAttributeError\u001b[0m: 'float' object has no attribute 'replace'"
     ]
    }
   ],
   "source": [
    "#was trying to format previous data from tweets - did not work out\n",
    "# print(content_data.shape)\n",
    "# for user in  range(content_data.shape[0]):\n",
    "#     user_list = content_data.iloc[user, 1].replace('\"','').split('],')\n",
    "#     print (user,\" :    \",user_list[0])\n",
    "#     print (user,\" :    \",user_list[1])\n",
    "#     print()\n",
    "\n",
    "# for i in range(0,len(content_list)): \n",
    "#     print (i,\"    \",content_list[i])\n",
    "#     print()\n",
    "\n"
   ]
  }
 ],
 "metadata": {
  "kernelspec": {
   "display_name": "Python 3",
   "language": "python",
   "name": "python3"
  },
  "language_info": {
   "codemirror_mode": {
    "name": "ipython",
    "version": 3
   },
   "file_extension": ".py",
   "mimetype": "text/x-python",
   "name": "python",
   "nbconvert_exporter": "python",
   "pygments_lexer": "ipython3",
   "version": "3.6.6"
  }
 },
 "nbformat": 4,
 "nbformat_minor": 2
}
